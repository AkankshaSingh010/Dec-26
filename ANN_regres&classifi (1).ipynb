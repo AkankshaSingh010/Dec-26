{
 "cells": [
  {
   "cell_type": "code",
   "execution_count": 1,
   "id": "f3064778-e032-4ca2-90f9-a1c3d116ea0e",
   "metadata": {},
   "outputs": [],
   "source": [
    "import torch\n",
    "import torch.nn as nn\n",
    "\n",
    "import numpy as np\n",
    "import pandas as pd\n",
    "import matplotlib.pyplot as plt"
   ]
  },
  {
   "cell_type": "code",
   "execution_count": 2,
   "id": "f6a1c8da-0ed0-4b67-9af4-744e9a940253",
   "metadata": {},
   "outputs": [
    {
     "data": {
      "text/plain": [
       "'!pip install kaggle'"
      ]
     },
     "execution_count": 2,
     "metadata": {},
     "output_type": "execute_result"
    }
   ],
   "source": [
    "'''!pip install kaggle'''"
   ]
  },
  {
   "cell_type": "code",
   "execution_count": 3,
   "id": "04c4050b-8493-4581-8fa2-8252e42ebdcb",
   "metadata": {},
   "outputs": [
    {
     "data": {
      "text/plain": [
       "'import os\\nimport shutil\\n\\n# Correct destination folder\\ndestination = \"C:/Users/Akanksha/.kaggle\"\\n\\n# Create folder if it doesn\\'t exist\\nos.makedirs(destination, exist_ok=True)\\n\\n# Move kaggle.json to that folder\\nshutil.move(\"kaggle.json\", os.path.join(destination, \"kaggle.json\"))'"
      ]
     },
     "execution_count": 3,
     "metadata": {},
     "output_type": "execute_result"
    }
   ],
   "source": [
    "'''import os\n",
    "import shutil\n",
    "\n",
    "# Correct destination folder\n",
    "destination = \"C:/Users/Akanksha/.kaggle\"\n",
    "\n",
    "# Create folder if it doesn't exist\n",
    "os.makedirs(destination, exist_ok=True)\n",
    "\n",
    "# Move kaggle.json to that folder\n",
    "shutil.move(\"kaggle.json\", os.path.join(destination, \"kaggle.json\"))'''"
   ]
  },
  {
   "cell_type": "code",
   "execution_count": 4,
   "id": "93b6946d-a789-4d69-8a7c-7cfa4c28b157",
   "metadata": {
    "scrolled": true
   },
   "outputs": [
    {
     "data": {
      "text/plain": [
       "'!kaggle datasets list -s \"nyc taxi\"'"
      ]
     },
     "execution_count": 4,
     "metadata": {},
     "output_type": "execute_result"
    }
   ],
   "source": [
    "'''!kaggle datasets list -s \"nyc taxi\"'''"
   ]
  },
  {
   "cell_type": "markdown",
   "id": "30b2cc57-011f-4c43-905a-c4b3e719c914",
   "metadata": {},
   "source": [
    "## Data"
   ]
  },
  {
   "cell_type": "code",
   "execution_count": 6,
   "id": "3715d859-df2f-463b-a896-8e362ac088c7",
   "metadata": {},
   "outputs": [
    {
     "data": {
      "text/plain": [
       "'! kaggle competitions download -c new-york-city-taxi-fare-prediction'"
      ]
     },
     "execution_count": 6,
     "metadata": {},
     "output_type": "execute_result"
    }
   ],
   "source": [
    "'''! kaggle competitions download -c new-york-city-taxi-fare-prediction'''"
   ]
  },
  {
   "cell_type": "code",
   "execution_count": 7,
   "id": "6f0915f3-d62d-4993-83ff-a8a72d57705c",
   "metadata": {},
   "outputs": [
    {
     "data": {
      "text/plain": [
       "'import zipfile\\n\\nwith zipfile.ZipFile(\"new-york-city-taxi-fare-prediction.zip\", \"r\") as zip_ref:\\n    zip_ref.extractall(\"nyc_taxi_data\")'"
      ]
     },
     "execution_count": 7,
     "metadata": {},
     "output_type": "execute_result"
    }
   ],
   "source": [
    "'''import zipfile\n",
    "\n",
    "with zipfile.ZipFile(\"new-york-city-taxi-fare-prediction.zip\", \"r\") as zip_ref:\n",
    "    zip_ref.extractall(\"nyc_taxi_data\")'''"
   ]
  },
  {
   "cell_type": "code",
   "execution_count": 8,
   "id": "77a9aea5-52d9-49d5-9a5b-63e5d1830279",
   "metadata": {},
   "outputs": [
    {
     "data": {
      "text/plain": [
       "['GCP-Coupons-Instructions.rtf',\n",
       " 'sample_submission.csv',\n",
       " 'test.csv',\n",
       " 'train.csv']"
      ]
     },
     "execution_count": 8,
     "metadata": {},
     "output_type": "execute_result"
    }
   ],
   "source": [
    "import os\n",
    "\n",
    "os.listdir(\"nyc_taxi_data\")"
   ]
  },
  {
   "cell_type": "code",
   "execution_count": 9,
   "id": "94ca6a86-fee7-4c9d-8e56-8cbbb1207e74",
   "metadata": {},
   "outputs": [
    {
     "data": {
      "text/html": [
       "<div>\n",
       "<style scoped>\n",
       "    .dataframe tbody tr th:only-of-type {\n",
       "        vertical-align: middle;\n",
       "    }\n",
       "\n",
       "    .dataframe tbody tr th {\n",
       "        vertical-align: top;\n",
       "    }\n",
       "\n",
       "    .dataframe thead th {\n",
       "        text-align: right;\n",
       "    }\n",
       "</style>\n",
       "<table border=\"1\" class=\"dataframe\">\n",
       "  <thead>\n",
       "    <tr style=\"text-align: right;\">\n",
       "      <th></th>\n",
       "      <th>key</th>\n",
       "      <th>fare_amount</th>\n",
       "      <th>pickup_datetime</th>\n",
       "      <th>pickup_longitude</th>\n",
       "      <th>pickup_latitude</th>\n",
       "      <th>dropoff_longitude</th>\n",
       "      <th>dropoff_latitude</th>\n",
       "      <th>passenger_count</th>\n",
       "    </tr>\n",
       "  </thead>\n",
       "  <tbody>\n",
       "    <tr>\n",
       "      <th>0</th>\n",
       "      <td>2009-06-15 17:26:21.0000001</td>\n",
       "      <td>4.5</td>\n",
       "      <td>2009-06-15 17:26:21 UTC</td>\n",
       "      <td>-73.844311</td>\n",
       "      <td>40.721319</td>\n",
       "      <td>-73.841610</td>\n",
       "      <td>40.712278</td>\n",
       "      <td>1</td>\n",
       "    </tr>\n",
       "    <tr>\n",
       "      <th>1</th>\n",
       "      <td>2010-01-05 16:52:16.0000002</td>\n",
       "      <td>16.9</td>\n",
       "      <td>2010-01-05 16:52:16 UTC</td>\n",
       "      <td>-74.016048</td>\n",
       "      <td>40.711303</td>\n",
       "      <td>-73.979268</td>\n",
       "      <td>40.782004</td>\n",
       "      <td>1</td>\n",
       "    </tr>\n",
       "    <tr>\n",
       "      <th>2</th>\n",
       "      <td>2011-08-18 00:35:00.00000049</td>\n",
       "      <td>5.7</td>\n",
       "      <td>2011-08-18 00:35:00 UTC</td>\n",
       "      <td>-73.982738</td>\n",
       "      <td>40.761270</td>\n",
       "      <td>-73.991242</td>\n",
       "      <td>40.750562</td>\n",
       "      <td>2</td>\n",
       "    </tr>\n",
       "    <tr>\n",
       "      <th>3</th>\n",
       "      <td>2012-04-21 04:30:42.0000001</td>\n",
       "      <td>7.7</td>\n",
       "      <td>2012-04-21 04:30:42 UTC</td>\n",
       "      <td>-73.987130</td>\n",
       "      <td>40.733143</td>\n",
       "      <td>-73.991567</td>\n",
       "      <td>40.758092</td>\n",
       "      <td>1</td>\n",
       "    </tr>\n",
       "    <tr>\n",
       "      <th>4</th>\n",
       "      <td>2010-03-09 07:51:00.000000135</td>\n",
       "      <td>5.3</td>\n",
       "      <td>2010-03-09 07:51:00 UTC</td>\n",
       "      <td>-73.968095</td>\n",
       "      <td>40.768008</td>\n",
       "      <td>-73.956655</td>\n",
       "      <td>40.783762</td>\n",
       "      <td>1</td>\n",
       "    </tr>\n",
       "  </tbody>\n",
       "</table>\n",
       "</div>"
      ],
      "text/plain": [
       "                             key  fare_amount          pickup_datetime  \\\n",
       "0    2009-06-15 17:26:21.0000001          4.5  2009-06-15 17:26:21 UTC   \n",
       "1    2010-01-05 16:52:16.0000002         16.9  2010-01-05 16:52:16 UTC   \n",
       "2   2011-08-18 00:35:00.00000049          5.7  2011-08-18 00:35:00 UTC   \n",
       "3    2012-04-21 04:30:42.0000001          7.7  2012-04-21 04:30:42 UTC   \n",
       "4  2010-03-09 07:51:00.000000135          5.3  2010-03-09 07:51:00 UTC   \n",
       "\n",
       "   pickup_longitude  pickup_latitude  dropoff_longitude  dropoff_latitude  \\\n",
       "0        -73.844311        40.721319         -73.841610         40.712278   \n",
       "1        -74.016048        40.711303         -73.979268         40.782004   \n",
       "2        -73.982738        40.761270         -73.991242         40.750562   \n",
       "3        -73.987130        40.733143         -73.991567         40.758092   \n",
       "4        -73.968095        40.768008         -73.956655         40.783762   \n",
       "\n",
       "   passenger_count  \n",
       "0                1  \n",
       "1                1  \n",
       "2                2  \n",
       "3                1  \n",
       "4                1  "
      ]
     },
     "execution_count": 9,
     "metadata": {},
     "output_type": "execute_result"
    }
   ],
   "source": [
    "import pandas as pd\n",
    "\n",
    "df = pd.read_csv(\"nyc_taxi_data/train.csv\", nrows=50000)  \n",
    "df.head()"
   ]
  },
  {
   "cell_type": "code",
   "execution_count": 10,
   "id": "621624d2-03f5-4e2a-93f8-7537ab282c8c",
   "metadata": {},
   "outputs": [],
   "source": [
    "#  0 = low fare, 1 = medium, 2 = high\n",
    "def classify_fare(fare):\n",
    "    if fare <= 7:\n",
    "        return 0\n",
    "    elif fare <= 15:\n",
    "        return 1\n",
    "    else:\n",
    "        return 2\n",
    "\n",
    "df[\"fare_class\"] = df[\"fare_amount\"].apply(classify_fare)"
   ]
  },
  {
   "cell_type": "markdown",
   "id": "b89c2486-2521-4dca-82b8-65ed99e2c4fa",
   "metadata": {},
   "source": [
    "## Haversine formula to calculate distance travelled"
   ]
  },
  {
   "cell_type": "code",
   "execution_count": 12,
   "id": "99cb9b5c-1a1c-4424-bbc5-5db5a277ab3f",
   "metadata": {},
   "outputs": [],
   "source": [
    " def haversine_distance(df, lat1, long1, lat2, long2):\n",
    "    \"\"\"\n",
    "    Calculates the haversine distance between 2 sets of GPS \n",
    "coordinates in df\n",
    "    \"\"\"\n",
    "    r = 6371  # average radius of Earth in kilometers\n",
    "       \n",
    "    phi1 = np.radians(df[lat1])\n",
    "    phi2 = np.radians(df[lat2])\n",
    "    \n",
    "    delta_phi = np.radians(df[lat2]-df[lat1])\n",
    "    delta_lambda = np.radians(df[long2]-df[long1])\n",
    "     \n",
    "    a = np.sin(delta_phi/2)**2 + np.cos(phi1) * np.cos(phi2) * np.sin(delta_lambda/2)**2\n",
    "    c = 2 * np.arctan2(np.sqrt(a), np.sqrt(1-a))\n",
    "    d = (r * c) # in kilometers\n",
    "    return d"
   ]
  },
  {
   "cell_type": "code",
   "execution_count": 13,
   "id": "36a8c7e3-8410-4211-a8f3-550c11fac229",
   "metadata": {},
   "outputs": [
    {
     "data": {
      "text/html": [
       "<div>\n",
       "<style scoped>\n",
       "    .dataframe tbody tr th:only-of-type {\n",
       "        vertical-align: middle;\n",
       "    }\n",
       "\n",
       "    .dataframe tbody tr th {\n",
       "        vertical-align: top;\n",
       "    }\n",
       "\n",
       "    .dataframe thead th {\n",
       "        text-align: right;\n",
       "    }\n",
       "</style>\n",
       "<table border=\"1\" class=\"dataframe\">\n",
       "  <thead>\n",
       "    <tr style=\"text-align: right;\">\n",
       "      <th></th>\n",
       "      <th>key</th>\n",
       "      <th>fare_amount</th>\n",
       "      <th>pickup_datetime</th>\n",
       "      <th>pickup_longitude</th>\n",
       "      <th>pickup_latitude</th>\n",
       "      <th>dropoff_longitude</th>\n",
       "      <th>dropoff_latitude</th>\n",
       "      <th>passenger_count</th>\n",
       "      <th>fare_class</th>\n",
       "      <th>dist_km</th>\n",
       "    </tr>\n",
       "  </thead>\n",
       "  <tbody>\n",
       "    <tr>\n",
       "      <th>0</th>\n",
       "      <td>2009-06-15 17:26:21.0000001</td>\n",
       "      <td>4.5</td>\n",
       "      <td>2009-06-15 17:26:21 UTC</td>\n",
       "      <td>-73.844311</td>\n",
       "      <td>40.721319</td>\n",
       "      <td>-73.841610</td>\n",
       "      <td>40.712278</td>\n",
       "      <td>1</td>\n",
       "      <td>0</td>\n",
       "      <td>1.030764</td>\n",
       "    </tr>\n",
       "    <tr>\n",
       "      <th>1</th>\n",
       "      <td>2010-01-05 16:52:16.0000002</td>\n",
       "      <td>16.9</td>\n",
       "      <td>2010-01-05 16:52:16 UTC</td>\n",
       "      <td>-74.016048</td>\n",
       "      <td>40.711303</td>\n",
       "      <td>-73.979268</td>\n",
       "      <td>40.782004</td>\n",
       "      <td>1</td>\n",
       "      <td>2</td>\n",
       "      <td>8.450134</td>\n",
       "    </tr>\n",
       "    <tr>\n",
       "      <th>2</th>\n",
       "      <td>2011-08-18 00:35:00.00000049</td>\n",
       "      <td>5.7</td>\n",
       "      <td>2011-08-18 00:35:00 UTC</td>\n",
       "      <td>-73.982738</td>\n",
       "      <td>40.761270</td>\n",
       "      <td>-73.991242</td>\n",
       "      <td>40.750562</td>\n",
       "      <td>2</td>\n",
       "      <td>0</td>\n",
       "      <td>1.389525</td>\n",
       "    </tr>\n",
       "    <tr>\n",
       "      <th>3</th>\n",
       "      <td>2012-04-21 04:30:42.0000001</td>\n",
       "      <td>7.7</td>\n",
       "      <td>2012-04-21 04:30:42 UTC</td>\n",
       "      <td>-73.987130</td>\n",
       "      <td>40.733143</td>\n",
       "      <td>-73.991567</td>\n",
       "      <td>40.758092</td>\n",
       "      <td>1</td>\n",
       "      <td>1</td>\n",
       "      <td>2.799270</td>\n",
       "    </tr>\n",
       "    <tr>\n",
       "      <th>4</th>\n",
       "      <td>2010-03-09 07:51:00.000000135</td>\n",
       "      <td>5.3</td>\n",
       "      <td>2010-03-09 07:51:00 UTC</td>\n",
       "      <td>-73.968095</td>\n",
       "      <td>40.768008</td>\n",
       "      <td>-73.956655</td>\n",
       "      <td>40.783762</td>\n",
       "      <td>1</td>\n",
       "      <td>0</td>\n",
       "      <td>1.999157</td>\n",
       "    </tr>\n",
       "  </tbody>\n",
       "</table>\n",
       "</div>"
      ],
      "text/plain": [
       "                             key  fare_amount          pickup_datetime  \\\n",
       "0    2009-06-15 17:26:21.0000001          4.5  2009-06-15 17:26:21 UTC   \n",
       "1    2010-01-05 16:52:16.0000002         16.9  2010-01-05 16:52:16 UTC   \n",
       "2   2011-08-18 00:35:00.00000049          5.7  2011-08-18 00:35:00 UTC   \n",
       "3    2012-04-21 04:30:42.0000001          7.7  2012-04-21 04:30:42 UTC   \n",
       "4  2010-03-09 07:51:00.000000135          5.3  2010-03-09 07:51:00 UTC   \n",
       "\n",
       "   pickup_longitude  pickup_latitude  dropoff_longitude  dropoff_latitude  \\\n",
       "0        -73.844311        40.721319         -73.841610         40.712278   \n",
       "1        -74.016048        40.711303         -73.979268         40.782004   \n",
       "2        -73.982738        40.761270         -73.991242         40.750562   \n",
       "3        -73.987130        40.733143         -73.991567         40.758092   \n",
       "4        -73.968095        40.768008         -73.956655         40.783762   \n",
       "\n",
       "   passenger_count  fare_class   dist_km  \n",
       "0                1           0  1.030764  \n",
       "1                1           2  8.450134  \n",
       "2                2           0  1.389525  \n",
       "3                1           1  2.799270  \n",
       "4                1           0  1.999157  "
      ]
     },
     "execution_count": 13,
     "metadata": {},
     "output_type": "execute_result"
    }
   ],
   "source": [
    " df['dist_km'] = haversine_distance(df,'pickup_latitude', 'pickup_longitude', 'dropoff_latitude', 'dropoff_longitude')\n",
    " df.head()"
   ]
  },
  {
   "cell_type": "code",
   "execution_count": 14,
   "id": "1265d51a-ad44-480d-b976-de55cb8faad3",
   "metadata": {},
   "outputs": [
    {
     "data": {
      "text/html": [
       "<div>\n",
       "<style scoped>\n",
       "    .dataframe tbody tr th:only-of-type {\n",
       "        vertical-align: middle;\n",
       "    }\n",
       "\n",
       "    .dataframe tbody tr th {\n",
       "        vertical-align: top;\n",
       "    }\n",
       "\n",
       "    .dataframe thead th {\n",
       "        text-align: right;\n",
       "    }\n",
       "</style>\n",
       "<table border=\"1\" class=\"dataframe\">\n",
       "  <thead>\n",
       "    <tr style=\"text-align: right;\">\n",
       "      <th></th>\n",
       "      <th>key</th>\n",
       "      <th>fare_amount</th>\n",
       "      <th>pickup_datetime</th>\n",
       "      <th>pickup_longitude</th>\n",
       "      <th>pickup_latitude</th>\n",
       "      <th>dropoff_longitude</th>\n",
       "      <th>dropoff_latitude</th>\n",
       "      <th>passenger_count</th>\n",
       "      <th>fare_class</th>\n",
       "      <th>dist_km</th>\n",
       "      <th>ISTdate</th>\n",
       "      <th>Hour</th>\n",
       "      <th>AMorPM</th>\n",
       "      <th>Weekday</th>\n",
       "    </tr>\n",
       "  </thead>\n",
       "  <tbody>\n",
       "    <tr>\n",
       "      <th>0</th>\n",
       "      <td>2009-06-15 17:26:21.0000001</td>\n",
       "      <td>4.5</td>\n",
       "      <td>2009-06-15 17:26:21 UTC</td>\n",
       "      <td>-73.844311</td>\n",
       "      <td>40.721319</td>\n",
       "      <td>-73.841610</td>\n",
       "      <td>40.712278</td>\n",
       "      <td>1</td>\n",
       "      <td>0</td>\n",
       "      <td>1.030764</td>\n",
       "      <td>2009-06-15 22:56:21</td>\n",
       "      <td>22</td>\n",
       "      <td>pm</td>\n",
       "      <td>Mon</td>\n",
       "    </tr>\n",
       "    <tr>\n",
       "      <th>1</th>\n",
       "      <td>2010-01-05 16:52:16.0000002</td>\n",
       "      <td>16.9</td>\n",
       "      <td>2010-01-05 16:52:16 UTC</td>\n",
       "      <td>-74.016048</td>\n",
       "      <td>40.711303</td>\n",
       "      <td>-73.979268</td>\n",
       "      <td>40.782004</td>\n",
       "      <td>1</td>\n",
       "      <td>2</td>\n",
       "      <td>8.450134</td>\n",
       "      <td>2010-01-05 22:22:16</td>\n",
       "      <td>22</td>\n",
       "      <td>pm</td>\n",
       "      <td>Tue</td>\n",
       "    </tr>\n",
       "    <tr>\n",
       "      <th>2</th>\n",
       "      <td>2011-08-18 00:35:00.00000049</td>\n",
       "      <td>5.7</td>\n",
       "      <td>2011-08-18 00:35:00 UTC</td>\n",
       "      <td>-73.982738</td>\n",
       "      <td>40.761270</td>\n",
       "      <td>-73.991242</td>\n",
       "      <td>40.750562</td>\n",
       "      <td>2</td>\n",
       "      <td>0</td>\n",
       "      <td>1.389525</td>\n",
       "      <td>2011-08-18 06:05:00</td>\n",
       "      <td>6</td>\n",
       "      <td>am</td>\n",
       "      <td>Thu</td>\n",
       "    </tr>\n",
       "    <tr>\n",
       "      <th>3</th>\n",
       "      <td>2012-04-21 04:30:42.0000001</td>\n",
       "      <td>7.7</td>\n",
       "      <td>2012-04-21 04:30:42 UTC</td>\n",
       "      <td>-73.987130</td>\n",
       "      <td>40.733143</td>\n",
       "      <td>-73.991567</td>\n",
       "      <td>40.758092</td>\n",
       "      <td>1</td>\n",
       "      <td>1</td>\n",
       "      <td>2.799270</td>\n",
       "      <td>2012-04-21 10:00:42</td>\n",
       "      <td>10</td>\n",
       "      <td>am</td>\n",
       "      <td>Sat</td>\n",
       "    </tr>\n",
       "    <tr>\n",
       "      <th>4</th>\n",
       "      <td>2010-03-09 07:51:00.000000135</td>\n",
       "      <td>5.3</td>\n",
       "      <td>2010-03-09 07:51:00 UTC</td>\n",
       "      <td>-73.968095</td>\n",
       "      <td>40.768008</td>\n",
       "      <td>-73.956655</td>\n",
       "      <td>40.783762</td>\n",
       "      <td>1</td>\n",
       "      <td>0</td>\n",
       "      <td>1.999157</td>\n",
       "      <td>2010-03-09 13:21:00</td>\n",
       "      <td>13</td>\n",
       "      <td>pm</td>\n",
       "      <td>Tue</td>\n",
       "    </tr>\n",
       "  </tbody>\n",
       "</table>\n",
       "</div>"
      ],
      "text/plain": [
       "                             key  fare_amount          pickup_datetime  \\\n",
       "0    2009-06-15 17:26:21.0000001          4.5  2009-06-15 17:26:21 UTC   \n",
       "1    2010-01-05 16:52:16.0000002         16.9  2010-01-05 16:52:16 UTC   \n",
       "2   2011-08-18 00:35:00.00000049          5.7  2011-08-18 00:35:00 UTC   \n",
       "3    2012-04-21 04:30:42.0000001          7.7  2012-04-21 04:30:42 UTC   \n",
       "4  2010-03-09 07:51:00.000000135          5.3  2010-03-09 07:51:00 UTC   \n",
       "\n",
       "   pickup_longitude  pickup_latitude  dropoff_longitude  dropoff_latitude  \\\n",
       "0        -73.844311        40.721319         -73.841610         40.712278   \n",
       "1        -74.016048        40.711303         -73.979268         40.782004   \n",
       "2        -73.982738        40.761270         -73.991242         40.750562   \n",
       "3        -73.987130        40.733143         -73.991567         40.758092   \n",
       "4        -73.968095        40.768008         -73.956655         40.783762   \n",
       "\n",
       "   passenger_count  fare_class   dist_km             ISTdate  Hour AMorPM  \\\n",
       "0                1           0  1.030764 2009-06-15 22:56:21    22     pm   \n",
       "1                1           2  8.450134 2010-01-05 22:22:16    22     pm   \n",
       "2                2           0  1.389525 2011-08-18 06:05:00     6     am   \n",
       "3                1           1  2.799270 2012-04-21 10:00:42    10     am   \n",
       "4                1           0  1.999157 2010-03-09 13:21:00    13     pm   \n",
       "\n",
       "  Weekday  \n",
       "0     Mon  \n",
       "1     Tue  \n",
       "2     Thu  \n",
       "3     Sat  \n",
       "4     Tue  "
      ]
     },
     "execution_count": 14,
     "metadata": {},
     "output_type": "execute_result"
    }
   ],
   "source": [
    "df['ISTdate'] = pd.to_datetime(df['pickup_datetime'].str[:19]) + pd.Timedelta(hours=5, minutes=30)\n",
    "df['Hour'] = df['ISTdate'].dt.hour\n",
    "df['AMorPM'] = np.where(df['Hour']<12,'am','pm')\n",
    "df['Weekday'] = df['ISTdate'].dt.strftime(\"%a\")\n",
    "df.head()"
   ]
  },
  {
   "cell_type": "code",
   "execution_count": 15,
   "id": "8744694a-dbd2-4fbf-8058-396e09cb1d8a",
   "metadata": {},
   "outputs": [
    {
     "name": "stdout",
     "output_type": "stream",
     "text": [
      "2009-01-01 07:01:49\n",
      "2015-07-01 04:12:39\n"
     ]
    }
   ],
   "source": [
    "print(df['ISTdate'].min())\n",
    "print(df['ISTdate'].max())"
   ]
  },
  {
   "cell_type": "code",
   "execution_count": 16,
   "id": "1d4746c1-86ad-425a-851b-cbb2a3f25694",
   "metadata": {},
   "outputs": [
    {
     "data": {
      "text/plain": [
       "Index(['key', 'fare_amount', 'pickup_datetime', 'pickup_longitude',\n",
       "       'pickup_latitude', 'dropoff_longitude', 'dropoff_latitude',\n",
       "       'passenger_count', 'fare_class', 'dist_km', 'ISTdate', 'Hour', 'AMorPM',\n",
       "       'Weekday'],\n",
       "      dtype='object')"
      ]
     },
     "execution_count": 16,
     "metadata": {},
     "output_type": "execute_result"
    }
   ],
   "source": [
    "df.columns"
   ]
  },
  {
   "cell_type": "code",
   "execution_count": 17,
   "id": "b92c051d-94e8-4874-b659-ee0c6381465a",
   "metadata": {},
   "outputs": [],
   "source": [
    "cat_cols = ['Hour', 'AMorPM','Weekday']\n",
    "cont_cols = ['pickup_longitude','pickup_latitude', 'dropoff_longitude', 'dropoff_latitude','passenger_count', 'dist_km']\n",
    "y_col = ['fare_amount']"
   ]
  },
  {
   "cell_type": "code",
   "execution_count": 18,
   "id": "674ebda2-f87c-4fa7-97ec-72d921f267e3",
   "metadata": {},
   "outputs": [],
   "source": [
    "# Convert our three categorical columns to category dtypes.\n",
    "for cat in cat_cols:\n",
    "   df[cat] = df[cat].astype('category')"
   ]
  },
  {
   "cell_type": "code",
   "execution_count": 19,
   "id": "e72ae8c4-c0e8-459f-b74d-6ebad701d84a",
   "metadata": {},
   "outputs": [
    {
     "data": {
      "text/plain": [
       "key                          object\n",
       "fare_amount                 float64\n",
       "pickup_datetime              object\n",
       "pickup_longitude            float64\n",
       "pickup_latitude             float64\n",
       "dropoff_longitude           float64\n",
       "dropoff_latitude            float64\n",
       "passenger_count               int64\n",
       "fare_class                    int64\n",
       "dist_km                     float64\n",
       "ISTdate              datetime64[ns]\n",
       "Hour                       category\n",
       "AMorPM                     category\n",
       "Weekday                    category\n",
       "dtype: object"
      ]
     },
     "execution_count": 19,
     "metadata": {},
     "output_type": "execute_result"
    }
   ],
   "source": [
    "df.dtypes"
   ]
  },
  {
   "cell_type": "code",
   "execution_count": 20,
   "id": "a2ff8cef-0918-468e-b0f0-0fd6daca832e",
   "metadata": {},
   "outputs": [
    {
     "data": {
      "text/plain": [
       "Index(['am', 'pm'], dtype='object')"
      ]
     },
     "execution_count": 20,
     "metadata": {},
     "output_type": "execute_result"
    }
   ],
   "source": [
    "df['AMorPM'].cat.categories"
   ]
  },
  {
   "cell_type": "code",
   "execution_count": 21,
   "id": "5cf3b096-dc9f-447f-a892-76fffd38f6ec",
   "metadata": {},
   "outputs": [
    {
     "data": {
      "text/plain": [
       "array([[22,  1,  1],\n",
       "       [22,  1,  5],\n",
       "       [ 6,  0,  4],\n",
       "       [10,  0,  2],\n",
       "       [13,  1,  5]], dtype=int8)"
      ]
     },
     "execution_count": 21,
     "metadata": {},
     "output_type": "execute_result"
    }
   ],
   "source": [
    "hr = df['Hour'].cat.codes.values\n",
    "ampm = df['AMorPM'].cat.codes.values\n",
    "wkdy = df['Weekday'].cat.codes.values\n",
    "cats = np.stack([hr, ampm, wkdy], 1)\n",
    "cats[:5]"
   ]
  },
  {
   "cell_type": "code",
   "execution_count": 22,
   "id": "a400befd-f78c-4e5c-8cef-ea6f819fa261",
   "metadata": {},
   "outputs": [
    {
     "data": {
      "text/plain": [
       "tensor([[22,  1,  1],\n",
       "        [22,  1,  5],\n",
       "        [ 6,  0,  4],\n",
       "        [10,  0,  2],\n",
       "        [13,  1,  5]])"
      ]
     },
     "execution_count": 22,
     "metadata": {},
     "output_type": "execute_result"
    }
   ],
   "source": [
    "cats = torch.tensor(cats, dtype=torch.int64)\n",
    "cats[:5]"
   ]
  },
  {
   "cell_type": "code",
   "execution_count": 23,
   "id": "29f2a85a-fca0-46ef-9fd2-9e056a4a1bfa",
   "metadata": {},
   "outputs": [
    {
     "data": {
      "text/plain": [
       "tensor([[-73.8443,  40.7213, -73.8416,  40.7123,   1.0000,   1.0308],\n",
       "        [-74.0160,  40.7113, -73.9793,  40.7820,   1.0000,   8.4501],\n",
       "        [-73.9827,  40.7613, -73.9912,  40.7506,   2.0000,   1.3895],\n",
       "        [-73.9871,  40.7331, -73.9916,  40.7581,   1.0000,   2.7993],\n",
       "        [-73.9681,  40.7680, -73.9567,  40.7838,   1.0000,   1.9992]])"
      ]
     },
     "execution_count": 23,
     "metadata": {},
     "output_type": "execute_result"
    }
   ],
   "source": [
    "# continuous variable to tensor\n",
    "conts = np.stack([df[col].values for col in cont_cols], 1)\n",
    "conts = torch.tensor(conts, dtype=torch.float)\n",
    "conts[:5]"
   ]
  },
  {
   "cell_type": "code",
   "execution_count": 24,
   "id": "52fa350e-d810-4390-b585-fcfa961e38d4",
   "metadata": {},
   "outputs": [
    {
     "data": {
      "text/plain": [
       "tensor([[ 4.5000],\n",
       "        [16.9000],\n",
       "        [ 5.7000],\n",
       "        [ 7.7000],\n",
       "        [ 5.3000]])"
      ]
     },
     "execution_count": 24,
     "metadata": {},
     "output_type": "execute_result"
    }
   ],
   "source": [
    "# Convert labels to a tensor\n",
    "y = torch.tensor(df[y_col].values, dtype=torch.float).reshape(-1,1)\n",
    "y[:5]"
   ]
  },
  {
   "cell_type": "code",
   "execution_count": 25,
   "id": "89f7d0f2-e7bb-4ef8-9bb8-a55c092726ac",
   "metadata": {},
   "outputs": [
    {
     "name": "stdout",
     "output_type": "stream",
     "text": [
      "torch.Size([50000, 3])\n",
      "torch.Size([50000, 6])\n",
      "torch.Size([50000, 1])\n"
     ]
    }
   ],
   "source": [
    "print(cats.shape)\n",
    "print(conts.shape)\n",
    "print(y.shape)"
   ]
  },
  {
   "cell_type": "markdown",
   "id": "408268ca-bdb5-4576-a878-72a6767c571a",
   "metadata": {},
   "source": [
    "## Embedding"
   ]
  },
  {
   "cell_type": "code",
   "execution_count": 27,
   "id": "8e74c22b-ede5-4c71-b485-e3aa838f04f9",
   "metadata": {},
   "outputs": [
    {
     "data": {
      "text/plain": [
       "[(24, 12), (2, 1), (7, 4)]"
      ]
     },
     "execution_count": 27,
     "metadata": {},
     "output_type": "execute_result"
    }
   ],
   "source": [
    "#The rule of thumb for determining the embedding size is to divide the number of unique entries in each column by 2, but not to exceed 50\n",
    "cat_szs = [len(df[col].cat.categories) for col in cat_cols]\n",
    "emb_szs = [(size, min(50, (size+1)//2)) for size in cat_szs]\n",
    "emb_szs"
   ]
  },
  {
   "cell_type": "markdown",
   "id": "dc92929e-2be1-4580-a61f-e3bc828b6375",
   "metadata": {},
   "source": [
    "## TabularModel"
   ]
  },
  {
   "cell_type": "code",
   "execution_count": 29,
   "id": "c4ac9403-a607-49cd-aa2c-b018a83868b7",
   "metadata": {},
   "outputs": [],
   "source": [
    "class TabularModel(nn.Module):\n",
    "    def __init__(self, emb_szs, n_cont, out_sz, layers, p=0.5):\n",
    "        super().__init__()\n",
    "        self.embeds = nn.ModuleList([nn.Embedding(ni, nf) for ni, nf in emb_szs])\n",
    "        self.emb_drop = nn.Dropout(p)\n",
    "        self.bn_cont = nn.BatchNorm1d(n_cont)\n",
    "\n",
    "        layerlist = []\n",
    "        n_emb = sum(( nf for ni, nf in emb_szs))\n",
    "        n_in = n_emb + n_cont\n",
    "\n",
    "        for i in layers:\n",
    "            layerlist.append(nn.Linear(n_in,i)) \n",
    "            layerlist.append(nn.ReLU(inplace=True))\n",
    "            layerlist.append(nn.BatchNorm1d(i))\n",
    "            layerlist.append(nn.Dropout(p))\n",
    "            n_in = i\n",
    "            \n",
    "        layerlist.append(nn.Linear(layers[-1],out_sz))\n",
    "            \n",
    "        self.layers = nn.Sequential(*layerlist)\n",
    "\n",
    "    def forward(self, x_cat, x_cont):\n",
    "        embeddings = []\n",
    "        for i,e in enumerate(self.embeds):\n",
    "            embeddings.append(e(x_cat[:,i]))\n",
    "        x = torch.cat(embeddings, 1)\n",
    "        x = self.emb_drop(x)\n",
    "        \n",
    "        x_cont = self.bn_cont(x_cont)\n",
    "        x = torch.cat([x, x_cont], 1)\n",
    "        x = self.layers(x)\n",
    "        return x"
   ]
  },
  {
   "cell_type": "code",
   "execution_count": 30,
   "id": "05b4cd46-2d0b-4968-84a1-e0a9d5581a90",
   "metadata": {},
   "outputs": [
    {
     "data": {
      "text/plain": [
       "TabularModel(\n",
       "  (embeds): ModuleList(\n",
       "    (0): Embedding(24, 12)\n",
       "    (1): Embedding(2, 1)\n",
       "    (2): Embedding(7, 4)\n",
       "  )\n",
       "  (emb_drop): Dropout(p=0.7, inplace=False)\n",
       "  (bn_cont): BatchNorm1d(6, eps=1e-05, momentum=0.1, affine=True, track_running_stats=True)\n",
       "  (layers): Sequential(\n",
       "    (0): Linear(in_features=23, out_features=200, bias=True)\n",
       "    (1): ReLU(inplace=True)\n",
       "    (2): BatchNorm1d(200, eps=1e-05, momentum=0.1, affine=True, track_running_stats=True)\n",
       "    (3): Dropout(p=0.7, inplace=False)\n",
       "    (4): Linear(in_features=200, out_features=100, bias=True)\n",
       "    (5): ReLU(inplace=True)\n",
       "    (6): BatchNorm1d(100, eps=1e-05, momentum=0.1, affine=True, track_running_stats=True)\n",
       "    (7): Dropout(p=0.7, inplace=False)\n",
       "    (8): Linear(in_features=100, out_features=1, bias=True)\n",
       "  )\n",
       ")"
      ]
     },
     "execution_count": 30,
     "metadata": {},
     "output_type": "execute_result"
    }
   ],
   "source": [
    "torch.manual_seed(33)\n",
    "model = TabularModel(emb_szs, conts.shape[1], 1, [200,100], p=0.7)\n",
    "model"
   ]
  },
  {
   "cell_type": "markdown",
   "id": "c3567e8f-15ae-4c28-844a-727ecd7b8248",
   "metadata": {},
   "source": [
    "## loss function & optimizer"
   ]
  },
  {
   "cell_type": "code",
   "execution_count": 32,
   "id": "360427b0-4105-4334-b988-b51812acf004",
   "metadata": {},
   "outputs": [],
   "source": [
    "criterion = nn.MSELoss()  # converted to RMSE later\n",
    "optimizer = torch.optim.Adam(model.parameters(), lr=0.001)"
   ]
  },
  {
   "cell_type": "markdown",
   "id": "c826c54b-91fb-421b-ad64-44982ba69d76",
   "metadata": {},
   "source": [
    "## train/test splits"
   ]
  },
  {
   "cell_type": "code",
   "execution_count": 34,
   "id": "a9c39eb2-5ca0-469d-8117-636e0c9f774b",
   "metadata": {},
   "outputs": [],
   "source": [
    "batch_size = 25000\n",
    "test_size = int(batch_size * .2)\n",
    "cat_train = cats[:batch_size-test_size]   # slicing array[start:stop]\n",
    "cat_test = cats[batch_size-test_size:batch_size]\n",
    "con_train = conts[:batch_size-test_size]\n",
    "con_test = conts[batch_size-test_size:batch_size]\n",
    "y_train = y[:batch_size-test_size]\n",
    "y_test = y[batch_size-test_size:batch_size]"
   ]
  },
  {
   "cell_type": "code",
   "execution_count": 35,
   "id": "37242f37-b31c-4cbf-9cd5-86029566d14c",
   "metadata": {},
   "outputs": [
    {
     "name": "stdout",
     "output_type": "stream",
     "text": [
      "20000\n",
      "5000\n"
     ]
    }
   ],
   "source": [
    "print(len(cat_train))\n",
    "print(len(cat_test))"
   ]
  },
  {
   "cell_type": "markdown",
   "id": "cb3c7762-d743-4267-9327-1bf7b7d75707",
   "metadata": {},
   "source": [
    "##  Train the model"
   ]
  },
  {
   "cell_type": "code",
   "execution_count": 37,
   "id": "988db0de-1819-4f0a-a3e7-a5cd078f2053",
   "metadata": {},
   "outputs": [
    {
     "name": "stdout",
     "output_type": "stream",
     "text": [
      "epoch:   1  loss: 14.85822392\n",
      "epoch:  26  loss: 14.73277187\n",
      "epoch:  51  loss: 14.57348633\n",
      "epoch:  76  loss: 14.24924088\n",
      "epoch: 101  loss: 13.70878410\n",
      "epoch: 126  loss: 13.03833866\n",
      "epoch: 151  loss: 12.26437759\n",
      "epoch: 176  loss: 11.49577713\n",
      "epoch: 201  loss: 10.85832214\n",
      "epoch: 226  loss: 10.51042843\n",
      "epoch: 251  loss: 10.34716511\n",
      "epoch: 276  loss: 10.13806057\n",
      "epoch: 301  loss: 10.10060501\n",
      "epoch: 326  loss: 10.06693077\n",
      "epoch: 351  loss: 10.03997803\n",
      "epoch: 376  loss: 9.92752457\n",
      "epoch: 401  loss: 9.92704391\n",
      "epoch: 426  loss: 9.89271927\n",
      "epoch: 451  loss: 9.91149044\n",
      "epoch: 476  loss: 9.86094666\n",
      "epoch: 501  loss: 9.83688927\n",
      "epoch: 526  loss: 9.81600952\n",
      "epoch: 550  loss: 9.79519176\n",
      "\n",
      "Duration: 271 seconds\n"
     ]
    }
   ],
   "source": [
    "import time\n",
    "start_time = time.time()\n",
    "epochs = 550\n",
    "losses = []\n",
    "for i in range(epochs):\n",
    "   i+=1\n",
    "   y_pred = model(cat_train, con_train)\n",
    "   loss = torch.sqrt(criterion(y_pred, y_train)) # RMSE\n",
    "   losses.append(loss)\n",
    "   \n",
    "   # a neat trick to save screen space:\n",
    "   if i%25 == 1:\n",
    "       print(f'epoch: {i:3}  loss: {loss.item():10.8f}')\n",
    "   optimizer.zero_grad()\n",
    "   loss.backward()\n",
    "   optimizer.step()\n",
    "\n",
    "print(f'epoch: {i:3}  loss: {loss.item():10.8f}') # print the last line\n",
    "print(f'\\nDuration: {time.time() - start_time:.0f} seconds') # print the time elapsed\n",
    "\n"
   ]
  },
  {
   "cell_type": "code",
   "execution_count": 38,
   "id": "9cd197b2-43b5-4ff1-b1eb-b8ebb8f6ab43",
   "metadata": {},
   "outputs": [
    {
     "data": {
      "image/png": "[encoded data removed]",
      "text/plain": [
       "<Figure size 640x480 with 1 Axes>"
      ]
     },
     "metadata": {},
     "output_type": "display_data"
    }
   ],
   "source": [
    "plt.plot(range(epochs), [loss.detach().item() for loss in losses])\n",
    "plt.ylabel('RMSE Loss')\n",
    "plt.xlabel('epoch');"
   ]
  },
  {
   "cell_type": "markdown",
   "id": "a850a48f-f222-4e9c-ad9b-d65aad1e04d9",
   "metadata": {},
   "source": [
    "## Validate the model"
   ]
  },
  {
   "cell_type": "code",
   "execution_count": 40,
   "id": "74a9b7f1-fdc9-42f0-8259-4358987650de",
   "metadata": {},
   "outputs": [
    {
     "name": "stdout",
     "output_type": "stream",
     "text": [
      "RMSE: 9.70723724\n"
     ]
    }
   ],
   "source": [
    "# TO EVALUATE THE ENTIRE TEST SET\n",
    "with torch.no_grad():\n",
    "   y_val = model(cat_test, con_test)\n",
    "   loss = torch.sqrt(criterion(y_val, y_test))\n",
    "print(f'RMSE: {loss:.8f}')"
   ]
  },
  {
   "cell_type": "code",
   "execution_count": 41,
   "id": "d9d34174-d259-47d0-8039-c1fa824d5734",
   "metadata": {},
   "outputs": [
    {
     "name": "stdout",
     "output_type": "stream",
     "text": [
      "   PREDICTED   ACTUAL     DIFF\n",
      " 1.  15.0702  17.0000   1.9298\n",
      " 2.   8.9883  10.5000   1.5117\n",
      " 3.  14.1353   6.0000   8.1353\n",
      " 4.  14.3395  16.5000   2.1605\n",
      " 5.  14.0095   6.5000   7.5095\n",
      " 6.   9.7813  11.0000   1.2187\n",
      " 7.   6.9159  49.8000  42.8841\n",
      " 8.  10.1465  10.1000   0.0465\n",
      " 9.  12.5859  16.5000   3.9141\n",
      "10.  11.7922   5.3000   6.4922\n",
      "11.   9.2481   5.3000   3.9481\n",
      "12.  10.0303  10.1000   0.0697\n",
      "13.  13.8367  24.5000  10.6633\n",
      "14.   7.8594  14.0000   6.1406\n",
      "15.   8.7733  10.0000   1.2267\n",
      "16.  13.8994   8.9000   4.9994\n",
      "17.   9.7705   6.9000   2.8705\n",
      "18.  11.5516  10.9000   0.6516\n",
      "19.  15.2500   5.3000   9.9500\n",
      "20.   9.7065  14.0000   4.2935\n",
      "21.  10.8582  20.9000  10.0418\n",
      "22.  12.9820   9.3000   3.6820\n",
      "23.  11.6961   7.3000   4.3961\n",
      "24.  11.5089   8.5000   3.0089\n",
      "25.   5.5984   6.0000   0.4016\n",
      "26.   8.7580   5.0000   3.7580\n",
      "27.  13.5973   5.0000   8.5973\n",
      "28.   8.7204   9.7000   0.9796\n",
      "29.  12.4993  12.5000   0.0007\n",
      "30.   8.6198   4.5000   4.1198\n",
      "31.   7.3403   5.3000   2.0403\n",
      "32.  13.5789  14.5000   0.9211\n",
      "33.  13.3685  11.5000   1.8685\n",
      "34.   9.7660  10.0000   0.2340\n",
      "35.  13.6023   5.7000   7.9023\n",
      "36.  12.0583   4.5000   7.5583\n",
      "37.   9.1976  15.7000   6.5024\n",
      "38.   8.9788   6.0000   2.9788\n",
      "39.  14.4883   7.5000   6.9883\n",
      "40.  15.2974   7.3000   7.9974\n",
      "41.   9.3317   4.9000   4.4317\n",
      "42.   8.7026   5.5000   3.2026\n",
      "43.  10.5440  15.5000   4.9560\n",
      "44.  12.3788   8.5000   3.8788\n",
      "45.  12.1773   5.3000   6.8773\n",
      "46.  10.0999  11.3000   1.2001\n",
      "47.   9.6724   4.1000   5.5724\n",
      "48.  12.7858   4.5000   8.2858\n",
      "49.  11.7359  27.5000  15.7641\n",
      "50.   9.2205   6.5000   2.7205\n"
     ]
    }
   ],
   "source": [
    "print(f'{\"PREDICTED\":>12} {\"ACTUAL\":>8} {\"DIFF\":>8}')\n",
    "for i in range(50):\n",
    "   diff = np.abs(y_val[i].item()-y_test[i].item())\n",
    "   print(f'{i+1:2}. {y_val[i].item():8.4f} {y_test[i].item():8.4f} {diff:8.4f}')"
   ]
  },
  {
   "cell_type": "code",
   "execution_count": 42,
   "id": "cb91b365-a3c8-4765-8cc5-07da98caa44e",
   "metadata": {},
   "outputs": [],
   "source": [
    "model_regr = model  "
   ]
  },
  {
   "cell_type": "markdown",
   "id": "c53ce80a-c7b5-4364-b54a-573dd7482f8b",
   "metadata": {},
   "source": [
    "# Classification"
   ]
  },
  {
   "cell_type": "markdown",
   "id": "f9eb5bec-97ea-4e34-8078-ff0f81f8944d",
   "metadata": {},
   "source": [
    "## function & optimizer"
   ]
  },
  {
   "cell_type": "code",
   "execution_count": 172,
   "id": "a4229db5-87fb-4351-a3fc-3d656818f384",
   "metadata": {},
   "outputs": [],
   "source": [
    "criterion2 = nn.CrossEntropyLoss()\n",
    "optimizer = torch.optim.Adam(model.parameters(), lr=0.01)"
   ]
  },
  {
   "cell_type": "markdown",
   "id": "fe4848f8-ebfe-4939-9943-64ce3ab60ea1",
   "metadata": {},
   "source": [
    "## Train the model"
   ]
  },
  {
   "cell_type": "code",
   "execution_count": 47,
   "id": "cae4e9dd-296c-4b93-a78a-f9593da3b6ca",
   "metadata": {},
   "outputs": [],
   "source": [
    "y1_col = df['fare_class']"
   ]
  },
  {
   "cell_type": "code",
   "execution_count": 48,
   "id": "589af77a-7949-4ad1-96fd-af5a327c3fb0",
   "metadata": {},
   "outputs": [
    {
     "data": {
      "text/plain": [
       "0    0\n",
       "1    2\n",
       "2    0\n",
       "3    1\n",
       "4    0\n",
       "Name: fare_class, dtype: int64"
      ]
     },
     "execution_count": 48,
     "metadata": {},
     "output_type": "execute_result"
    }
   ],
   "source": [
    "y1_col[:5]"
   ]
  },
  {
   "cell_type": "code",
   "execution_count": 49,
   "id": "11c027a9-b034-44e4-b406-d9718bf95eba",
   "metadata": {},
   "outputs": [
    {
     "data": {
      "text/plain": [
       "tensor([0, 2, 0, 1, 0])"
      ]
     },
     "execution_count": 49,
     "metadata": {},
     "output_type": "execute_result"
    }
   ],
   "source": [
    "y1_col = torch.tensor(y1_col.values).flatten()\n",
    "y1_col[:5]"
   ]
  },
  {
   "cell_type": "markdown",
   "id": "5e4369e7-622f-497e-ad0b-6e7d89effa0c",
   "metadata": {},
   "source": [
    "## train/test splits for y1"
   ]
  },
  {
   "cell_type": "code",
   "execution_count": 51,
   "id": "9d880353-3ae7-4d19-9d20-a96dc927282d",
   "metadata": {},
   "outputs": [],
   "source": [
    "y1_col_train = y1_col[:batch_size-test_size]\n",
    "y1_col_test = y1_col[batch_size-test_size:batch_size]"
   ]
  },
  {
   "cell_type": "code",
   "execution_count": 52,
   "id": "e146fc38-580f-4cab-8adc-69e70ff9f13b",
   "metadata": {},
   "outputs": [
    {
     "name": "stdout",
     "output_type": "stream",
     "text": [
      "tensor([0, 2, 0,  ..., 2, 1, 1])\n",
      "tensor([2, 1, 0,  ..., 1, 2, 1])\n"
     ]
    }
   ],
   "source": [
    "print(y1_col_train)\n",
    "print(y1_col_test)"
   ]
  },
  {
   "cell_type": "code",
   "execution_count": 170,
   "id": "87eef66a-d36c-4c06-8096-1a9b907f30dd",
   "metadata": {},
   "outputs": [],
   "source": [
    "model = TabularModel(emb_szs, conts.shape[1], 3, [200, 100], p=0.5)"
   ]
  },
  {
   "cell_type": "code",
   "execution_count": 174,
   "id": "af8ac64b-d5e0-4bc1-8b21-cec7dc73d090",
   "metadata": {},
   "outputs": [
    {
     "name": "stdout",
     "output_type": "stream",
     "text": [
      "epoch:   1  loss: 1.29731762\n",
      "epoch:  26  loss: 1.04038525\n",
      "epoch:  51  loss: 1.03552842\n",
      "epoch:  76  loss: 1.03555560\n",
      "epoch: 101  loss: 1.02779460\n",
      "epoch: 126  loss: 0.77797425\n",
      "epoch: 151  loss: 0.63367957\n",
      "epoch: 176  loss: 0.58443201\n",
      "epoch: 201  loss: 0.56863916\n",
      "epoch: 226  loss: 0.55713362\n",
      "epoch: 251  loss: 0.55042094\n",
      "epoch: 276  loss: 0.54636747\n",
      "epoch: 299  loss: 0.53951865\n",
      "\n",
      "Duration: 42 seconds\n"
     ]
    }
   ],
   "source": [
    "start_time = time.time()\n",
    "epochs = 300\n",
    "losses2 = []\n",
    "for i in range(epochs):\n",
    "   \n",
    "   y_pred = model(cat_train, con_train)\n",
    "   y_pred = y_pred.float()   \n",
    "   loss2 = criterion2(y_pred, y1_col_train) \n",
    "   losses2.append(loss2)\n",
    "   \n",
    "   # a neat trick to save screen space:\n",
    "   if i%25 == 1:\n",
    "       print(f'epoch: {i:3}  loss: {loss2.item():10.8f}')\n",
    "   optimizer.zero_grad()\n",
    "   loss2.backward()\n",
    "   optimizer.step()\n",
    "print(f'epoch: {i:3}  loss: {loss2.item():10.8f}') # print the last line\n",
    "print(f'\\nDuration: {time.time() - start_time:.0f} seconds') # print the time elapsed"
   ]
  },
  {
   "cell_type": "markdown",
   "id": "c4884de9-dca1-4bac-913e-d8173796b130",
   "metadata": {},
   "source": [
    "##  Plot the loss function"
   ]
  },
  {
   "cell_type": "code",
   "execution_count": 176,
   "id": "b5a44b47-f4da-43d0-898f-d8eb78c11068",
   "metadata": {},
   "outputs": [
    {
     "data": {
      "image/png": "[encoded data removed]",
      "text/plain": [
       "<Figure size 640x480 with 1 Axes>"
      ]
     },
     "metadata": {},
     "output_type": "display_data"
    }
   ],
   "source": [
    "plt.plot(range(epochs), [loss2.detach().item() for loss2 in losses2])\n",
    "plt.ylabel('Cross Entropy Loss')\n",
    "plt.xlabel('epoch');"
   ]
  },
  {
   "cell_type": "markdown",
   "id": "1efce376-3c48-4c58-be57-e543bdbdaede",
   "metadata": {},
   "source": [
    "## Validate the model"
   ]
  },
  {
   "cell_type": "code",
   "execution_count": 178,
   "id": "4cf7d597-4311-49fa-8c2e-96949596307a",
   "metadata": {},
   "outputs": [
    {
     "name": "stdout",
     "output_type": "stream",
     "text": [
      "CE Loss: 222.12234497\n"
     ]
    },
    {
     "name": "stderr",
     "output_type": "stream",
     "text": [
      "C:\\Users\\Akanksha\\anaconda3\\Lib\\site-packages\\torch\\nn\\modules\\loss.py:608: UserWarning: Using a target size (torch.Size([5000, 1])) that is different to the input size (torch.Size([5000, 3])). This will likely lead to incorrect results due to broadcasting. Please ensure they have the same size.\n",
      "  return F.mse_loss(input, target, reduction=self.reduction)\n"
     ]
    }
   ],
   "source": [
    " # TO EVALUATE THE ENTIRE TEST SET\n",
    " with torch.no_grad():\n",
    "    y_val = model(cat_test, con_test)\n",
    "    loss = criterion(y_val, y_test)\n",
    " print(f'CE Loss: {loss:.8f}')"
   ]
  },
  {
   "cell_type": "code",
   "execution_count": null,
   "id": "8cffd2a7-ff0d-4638-994f-d37444b809ce",
   "metadata": {},
   "outputs": [],
   "source": []
  }
 ],
 "metadata": {
  "kernelspec": {
   "display_name": "Python 3 (ipykernel)",
   "language": "python",
   "name": "python3"
  },
  "language_info": {
   "codemirror_mode": {
    "name": "ipython",
    "version": 3
   },
   "file_extension": ".py",
   "mimetype": "text/x-python",
   "name": "python",
   "nbconvert_exporter": "python",
   "pygments_lexer": "ipython3",
   "version": "3.12.3"
  }
 },
 "nbformat": 4,
 "nbformat_minor": 5
}
