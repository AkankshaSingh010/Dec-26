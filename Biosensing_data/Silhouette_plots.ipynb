{
 "cells": [
  {
   "cell_type": "code",
   "execution_count": 1,
   "id": "8a494d6d-ac55-4e75-be7b-d8a184e33173",
   "metadata": {},
   "outputs": [],
   "source": [
    "import numpy as np\n",
    "import pandas as pd\n",
    "import matplotlib.pyplot as plt\n",
    "from sklearn.preprocessing import StandardScaler\n",
    "from sklearn.cluster import KMeans\n",
    "from sklearn.metrics import accuracy_score, confusion_matrix, ConfusionMatrixDisplay\n",
    "from sklearn.model_selection import train_test_split\n",
    "from sklearn.preprocessing import LabelEncoder\n",
    "import ast\n",
    "from sklearn.metrics import silhouette_samples, silhouette_score"
   ]
  },
  {
   "cell_type": "code",
   "execution_count": 2,
   "id": "9da3fab7-f979-4f0f-b7ec-80bcfb7b34a9",
   "metadata": {},
   "outputs": [],
   "source": [
    "data = pd.read_csv('biosensing_data.csv')"
   ]
  },
  {
   "cell_type": "code",
   "execution_count": 3,
   "id": "3e442da1-4cc7-4098-9af2-ba7097f254e4",
   "metadata": {
    "collapsed": true,
    "jupyter": {
     "outputs_hidden": true
    },
    "scrolled": true
   },
   "outputs": [
    {
     "data": {
      "text/html": [
       "<div>\n",
       "<style scoped>\n",
       "    .dataframe tbody tr th:only-of-type {\n",
       "        vertical-align: middle;\n",
       "    }\n",
       "\n",
       "    .dataframe tbody tr th {\n",
       "        vertical-align: top;\n",
       "    }\n",
       "\n",
       "    .dataframe thead th {\n",
       "        text-align: right;\n",
       "    }\n",
       "</style>\n",
       "<table border=\"1\" class=\"dataframe\">\n",
       "  <thead>\n",
       "    <tr style=\"text-align: right;\">\n",
       "      <th></th>\n",
       "      <th>Sample_ID</th>\n",
       "      <th>Biosensor_Type</th>\n",
       "      <th>Pathogen_ID</th>\n",
       "      <th>Pathogen_Class</th>\n",
       "      <th>Microbial_Signature</th>\n",
       "      <th>Signal_Quality</th>\n",
       "      <th>Normalized_Data</th>\n",
       "      <th>Classification_Label</th>\n",
       "    </tr>\n",
       "  </thead>\n",
       "  <tbody>\n",
       "    <tr>\n",
       "      <th>0</th>\n",
       "      <td>sample_0001</td>\n",
       "      <td>Electrochemical</td>\n",
       "      <td>pathogen_0001</td>\n",
       "      <td>Virus</td>\n",
       "      <td>[0.686348465859171, 0.3519711095416459, 0.4792...</td>\n",
       "      <td>1</td>\n",
       "      <td>[1.0, 0.5128169247104654, 0.6982014062284271]</td>\n",
       "      <td>Hepatitis</td>\n",
       "    </tr>\n",
       "    <tr>\n",
       "      <th>1</th>\n",
       "      <td>sample_0002</td>\n",
       "      <td>Electrochemical</td>\n",
       "      <td>pathogen_0002</td>\n",
       "      <td>Virus</td>\n",
       "      <td>[0.511492541035177, 0.5906264985400667, 0.4373...</td>\n",
       "      <td>1</td>\n",
       "      <td>[0.8660169198292051, 1.0, 0.7405203790625393]</td>\n",
       "      <td>Influenza</td>\n",
       "    </tr>\n",
       "    <tr>\n",
       "      <th>2</th>\n",
       "      <td>sample_0003</td>\n",
       "      <td>Optical</td>\n",
       "      <td>pathogen_0003</td>\n",
       "      <td>Fungi</td>\n",
       "      <td>[0.34381169127876693, 0.3692560064866732, 0.11...</td>\n",
       "      <td>1</td>\n",
       "      <td>[0.9310930228325897, 1.0, 0.316247859168712]</td>\n",
       "      <td>Aspergillus</td>\n",
       "    </tr>\n",
       "    <tr>\n",
       "      <th>3</th>\n",
       "      <td>sample_0004</td>\n",
       "      <td>Electrochemical</td>\n",
       "      <td>pathogen_0004</td>\n",
       "      <td>Bacteria</td>\n",
       "      <td>[0.6662803385340104, 0.46467267273050455, 0.45...</td>\n",
       "      <td>1</td>\n",
       "      <td>[1.0, 0.6974131545783041, 0.6764207193004899]</td>\n",
       "      <td>L. monocytogenes</td>\n",
       "    </tr>\n",
       "    <tr>\n",
       "      <th>4</th>\n",
       "      <td>sample_0005</td>\n",
       "      <td>Electrochemical</td>\n",
       "      <td>pathogen_0005</td>\n",
       "      <td>Bacteria</td>\n",
       "      <td>[0.7666226216524994, 0.38892208052687616, 0.38...</td>\n",
       "      <td>1</td>\n",
       "      <td>[1.0, 0.5073188157277855, 0.5053355232959593]</td>\n",
       "      <td>Salmonella</td>\n",
       "    </tr>\n",
       "  </tbody>\n",
       "</table>\n",
       "</div>"
      ],
      "text/plain": [
       "     Sample_ID   Biosensor_Type    Pathogen_ID Pathogen_Class  \\\n",
       "0  sample_0001  Electrochemical  pathogen_0001          Virus   \n",
       "1  sample_0002  Electrochemical  pathogen_0002          Virus   \n",
       "2  sample_0003          Optical  pathogen_0003          Fungi   \n",
       "3  sample_0004  Electrochemical  pathogen_0004       Bacteria   \n",
       "4  sample_0005  Electrochemical  pathogen_0005       Bacteria   \n",
       "\n",
       "                                 Microbial_Signature  Signal_Quality  \\\n",
       "0  [0.686348465859171, 0.3519711095416459, 0.4792...               1   \n",
       "1  [0.511492541035177, 0.5906264985400667, 0.4373...               1   \n",
       "2  [0.34381169127876693, 0.3692560064866732, 0.11...               1   \n",
       "3  [0.6662803385340104, 0.46467267273050455, 0.45...               1   \n",
       "4  [0.7666226216524994, 0.38892208052687616, 0.38...               1   \n",
       "\n",
       "                                 Normalized_Data Classification_Label  \n",
       "0  [1.0, 0.5128169247104654, 0.6982014062284271]            Hepatitis  \n",
       "1  [0.8660169198292051, 1.0, 0.7405203790625393]            Influenza  \n",
       "2   [0.9310930228325897, 1.0, 0.316247859168712]          Aspergillus  \n",
       "3  [1.0, 0.6974131545783041, 0.6764207193004899]     L. monocytogenes  \n",
       "4  [1.0, 0.5073188157277855, 0.5053355232959593]           Salmonella  "
      ]
     },
     "execution_count": 3,
     "metadata": {},
     "output_type": "execute_result"
    }
   ],
   "source": [
    "df = pd.DataFrame(data)\n",
    "df.head()"
   ]
  },
  {
   "cell_type": "code",
   "execution_count": 4,
   "id": "6ead0cdc-ffbb-4984-b7d5-68e9397d1349",
   "metadata": {
    "collapsed": true,
    "jupyter": {
     "outputs_hidden": true
    },
    "scrolled": true
   },
   "outputs": [
    {
     "data": {
      "text/html": [
       "<div>\n",
       "<style scoped>\n",
       "    .dataframe tbody tr th:only-of-type {\n",
       "        vertical-align: middle;\n",
       "    }\n",
       "\n",
       "    .dataframe tbody tr th {\n",
       "        vertical-align: top;\n",
       "    }\n",
       "\n",
       "    .dataframe thead th {\n",
       "        text-align: right;\n",
       "    }\n",
       "</style>\n",
       "<table border=\"1\" class=\"dataframe\">\n",
       "  <thead>\n",
       "    <tr style=\"text-align: right;\">\n",
       "      <th></th>\n",
       "      <th>Sample_ID</th>\n",
       "      <th>Biosensor_Type</th>\n",
       "      <th>Pathogen_ID</th>\n",
       "      <th>Pathogen_Class</th>\n",
       "      <th>Microbial_Signature</th>\n",
       "      <th>Signal_Quality</th>\n",
       "      <th>Normalized_Data</th>\n",
       "      <th>Classification_Label</th>\n",
       "      <th>classification_label_number</th>\n",
       "    </tr>\n",
       "  </thead>\n",
       "  <tbody>\n",
       "    <tr>\n",
       "      <th>0</th>\n",
       "      <td>sample_0001</td>\n",
       "      <td>Electrochemical</td>\n",
       "      <td>pathogen_0001</td>\n",
       "      <td>Virus</td>\n",
       "      <td>[0.686348465859171, 0.3519711095416459, 0.4792...</td>\n",
       "      <td>1</td>\n",
       "      <td>[1.0, 0.5128169247104654, 0.6982014062284271]</td>\n",
       "      <td>Hepatitis</td>\n",
       "      <td>4</td>\n",
       "    </tr>\n",
       "    <tr>\n",
       "      <th>1</th>\n",
       "      <td>sample_0002</td>\n",
       "      <td>Electrochemical</td>\n",
       "      <td>pathogen_0002</td>\n",
       "      <td>Virus</td>\n",
       "      <td>[0.511492541035177, 0.5906264985400667, 0.4373...</td>\n",
       "      <td>1</td>\n",
       "      <td>[0.8660169198292051, 1.0, 0.7405203790625393]</td>\n",
       "      <td>Influenza</td>\n",
       "      <td>5</td>\n",
       "    </tr>\n",
       "    <tr>\n",
       "      <th>2</th>\n",
       "      <td>sample_0003</td>\n",
       "      <td>Optical</td>\n",
       "      <td>pathogen_0003</td>\n",
       "      <td>Fungi</td>\n",
       "      <td>[0.34381169127876693, 0.3692560064866732, 0.11...</td>\n",
       "      <td>1</td>\n",
       "      <td>[0.9310930228325897, 1.0, 0.316247859168712]</td>\n",
       "      <td>Aspergillus</td>\n",
       "      <td>0</td>\n",
       "    </tr>\n",
       "    <tr>\n",
       "      <th>3</th>\n",
       "      <td>sample_0004</td>\n",
       "      <td>Electrochemical</td>\n",
       "      <td>pathogen_0004</td>\n",
       "      <td>Bacteria</td>\n",
       "      <td>[0.6662803385340104, 0.46467267273050455, 0.45...</td>\n",
       "      <td>1</td>\n",
       "      <td>[1.0, 0.6974131545783041, 0.6764207193004899]</td>\n",
       "      <td>L. monocytogenes</td>\n",
       "      <td>6</td>\n",
       "    </tr>\n",
       "    <tr>\n",
       "      <th>4</th>\n",
       "      <td>sample_0005</td>\n",
       "      <td>Electrochemical</td>\n",
       "      <td>pathogen_0005</td>\n",
       "      <td>Bacteria</td>\n",
       "      <td>[0.7666226216524994, 0.38892208052687616, 0.38...</td>\n",
       "      <td>1</td>\n",
       "      <td>[1.0, 0.5073188157277855, 0.5053355232959593]</td>\n",
       "      <td>Salmonella</td>\n",
       "      <td>8</td>\n",
       "    </tr>\n",
       "  </tbody>\n",
       "</table>\n",
       "</div>"
      ],
      "text/plain": [
       "     Sample_ID   Biosensor_Type    Pathogen_ID Pathogen_Class  \\\n",
       "0  sample_0001  Electrochemical  pathogen_0001          Virus   \n",
       "1  sample_0002  Electrochemical  pathogen_0002          Virus   \n",
       "2  sample_0003          Optical  pathogen_0003          Fungi   \n",
       "3  sample_0004  Electrochemical  pathogen_0004       Bacteria   \n",
       "4  sample_0005  Electrochemical  pathogen_0005       Bacteria   \n",
       "\n",
       "                                 Microbial_Signature  Signal_Quality  \\\n",
       "0  [0.686348465859171, 0.3519711095416459, 0.4792...               1   \n",
       "1  [0.511492541035177, 0.5906264985400667, 0.4373...               1   \n",
       "2  [0.34381169127876693, 0.3692560064866732, 0.11...               1   \n",
       "3  [0.6662803385340104, 0.46467267273050455, 0.45...               1   \n",
       "4  [0.7666226216524994, 0.38892208052687616, 0.38...               1   \n",
       "\n",
       "                                 Normalized_Data Classification_Label  \\\n",
       "0  [1.0, 0.5128169247104654, 0.6982014062284271]            Hepatitis   \n",
       "1  [0.8660169198292051, 1.0, 0.7405203790625393]            Influenza   \n",
       "2   [0.9310930228325897, 1.0, 0.316247859168712]          Aspergillus   \n",
       "3  [1.0, 0.6974131545783041, 0.6764207193004899]     L. monocytogenes   \n",
       "4  [1.0, 0.5073188157277855, 0.5053355232959593]           Salmonella   \n",
       "\n",
       "   classification_label_number  \n",
       "0                            4  \n",
       "1                            5  \n",
       "2                            0  \n",
       "3                            6  \n",
       "4                            8  "
      ]
     },
     "execution_count": 4,
     "metadata": {},
     "output_type": "execute_result"
    }
   ],
   "source": [
    "label_encoder = LabelEncoder()\n",
    "df['classification_label_number'] = label_encoder.fit_transform(df.iloc[:, -1])\n",
    "df.head()"
   ]
  },
  {
   "cell_type": "code",
   "execution_count": 5,
   "id": "e3a64338-683e-470b-89c7-a27d5ab73912",
   "metadata": {},
   "outputs": [
    {
     "data": {
      "text/html": [
       "<div>\n",
       "<style scoped>\n",
       "    .dataframe tbody tr th:only-of-type {\n",
       "        vertical-align: middle;\n",
       "    }\n",
       "\n",
       "    .dataframe tbody tr th {\n",
       "        vertical-align: top;\n",
       "    }\n",
       "\n",
       "    .dataframe thead th {\n",
       "        text-align: right;\n",
       "    }\n",
       "</style>\n",
       "<table border=\"1\" class=\"dataframe\">\n",
       "  <thead>\n",
       "    <tr style=\"text-align: right;\">\n",
       "      <th></th>\n",
       "      <th>Sample_ID</th>\n",
       "      <th>Biosensor_Type</th>\n",
       "      <th>Pathogen_ID</th>\n",
       "      <th>Pathogen_Class</th>\n",
       "      <th>Microbial_Signature</th>\n",
       "      <th>Signal_Quality</th>\n",
       "      <th>Normalized_Data</th>\n",
       "      <th>Classification_Label</th>\n",
       "      <th>classification_label_number</th>\n",
       "      <th>Biosensor_Type_number</th>\n",
       "    </tr>\n",
       "  </thead>\n",
       "  <tbody>\n",
       "    <tr>\n",
       "      <th>0</th>\n",
       "      <td>sample_0001</td>\n",
       "      <td>Electrochemical</td>\n",
       "      <td>pathogen_0001</td>\n",
       "      <td>Virus</td>\n",
       "      <td>[0.686348465859171, 0.3519711095416459, 0.4792...</td>\n",
       "      <td>1</td>\n",
       "      <td>[1.0, 0.5128169247104654, 0.6982014062284271]</td>\n",
       "      <td>Hepatitis</td>\n",
       "      <td>4</td>\n",
       "      <td>0</td>\n",
       "    </tr>\n",
       "    <tr>\n",
       "      <th>1</th>\n",
       "      <td>sample_0002</td>\n",
       "      <td>Electrochemical</td>\n",
       "      <td>pathogen_0002</td>\n",
       "      <td>Virus</td>\n",
       "      <td>[0.511492541035177, 0.5906264985400667, 0.4373...</td>\n",
       "      <td>1</td>\n",
       "      <td>[0.8660169198292051, 1.0, 0.7405203790625393]</td>\n",
       "      <td>Influenza</td>\n",
       "      <td>5</td>\n",
       "      <td>0</td>\n",
       "    </tr>\n",
       "    <tr>\n",
       "      <th>2</th>\n",
       "      <td>sample_0003</td>\n",
       "      <td>Optical</td>\n",
       "      <td>pathogen_0003</td>\n",
       "      <td>Fungi</td>\n",
       "      <td>[0.34381169127876693, 0.3692560064866732, 0.11...</td>\n",
       "      <td>1</td>\n",
       "      <td>[0.9310930228325897, 1.0, 0.316247859168712]</td>\n",
       "      <td>Aspergillus</td>\n",
       "      <td>0</td>\n",
       "      <td>2</td>\n",
       "    </tr>\n",
       "    <tr>\n",
       "      <th>3</th>\n",
       "      <td>sample_0004</td>\n",
       "      <td>Electrochemical</td>\n",
       "      <td>pathogen_0004</td>\n",
       "      <td>Bacteria</td>\n",
       "      <td>[0.6662803385340104, 0.46467267273050455, 0.45...</td>\n",
       "      <td>1</td>\n",
       "      <td>[1.0, 0.6974131545783041, 0.6764207193004899]</td>\n",
       "      <td>L. monocytogenes</td>\n",
       "      <td>6</td>\n",
       "      <td>0</td>\n",
       "    </tr>\n",
       "    <tr>\n",
       "      <th>4</th>\n",
       "      <td>sample_0005</td>\n",
       "      <td>Electrochemical</td>\n",
       "      <td>pathogen_0005</td>\n",
       "      <td>Bacteria</td>\n",
       "      <td>[0.7666226216524994, 0.38892208052687616, 0.38...</td>\n",
       "      <td>1</td>\n",
       "      <td>[1.0, 0.5073188157277855, 0.5053355232959593]</td>\n",
       "      <td>Salmonella</td>\n",
       "      <td>8</td>\n",
       "      <td>0</td>\n",
       "    </tr>\n",
       "  </tbody>\n",
       "</table>\n",
       "</div>"
      ],
      "text/plain": [
       "     Sample_ID   Biosensor_Type    Pathogen_ID Pathogen_Class  \\\n",
       "0  sample_0001  Electrochemical  pathogen_0001          Virus   \n",
       "1  sample_0002  Electrochemical  pathogen_0002          Virus   \n",
       "2  sample_0003          Optical  pathogen_0003          Fungi   \n",
       "3  sample_0004  Electrochemical  pathogen_0004       Bacteria   \n",
       "4  sample_0005  Electrochemical  pathogen_0005       Bacteria   \n",
       "\n",
       "                                 Microbial_Signature  Signal_Quality  \\\n",
       "0  [0.686348465859171, 0.3519711095416459, 0.4792...               1   \n",
       "1  [0.511492541035177, 0.5906264985400667, 0.4373...               1   \n",
       "2  [0.34381169127876693, 0.3692560064866732, 0.11...               1   \n",
       "3  [0.6662803385340104, 0.46467267273050455, 0.45...               1   \n",
       "4  [0.7666226216524994, 0.38892208052687616, 0.38...               1   \n",
       "\n",
       "                                 Normalized_Data Classification_Label  \\\n",
       "0  [1.0, 0.5128169247104654, 0.6982014062284271]            Hepatitis   \n",
       "1  [0.8660169198292051, 1.0, 0.7405203790625393]            Influenza   \n",
       "2   [0.9310930228325897, 1.0, 0.316247859168712]          Aspergillus   \n",
       "3  [1.0, 0.6974131545783041, 0.6764207193004899]     L. monocytogenes   \n",
       "4  [1.0, 0.5073188157277855, 0.5053355232959593]           Salmonella   \n",
       "\n",
       "   classification_label_number  Biosensor_Type_number  \n",
       "0                            4                      0  \n",
       "1                            5                      0  \n",
       "2                            0                      2  \n",
       "3                            6                      0  \n",
       "4                            8                      0  "
      ]
     },
     "execution_count": 5,
     "metadata": {},
     "output_type": "execute_result"
    }
   ],
   "source": [
    "label_encoder = LabelEncoder()\n",
    "df['Biosensor_Type_number'] = label_encoder.fit_transform(df.iloc[:, 1])\n",
    "df.head()"
   ]
  },
  {
   "cell_type": "code",
   "execution_count": 11,
   "id": "6ce189bf-3ea6-4f05-8fec-99d2f2d60f2a",
   "metadata": {
    "collapsed": true,
    "jupyter": {
     "outputs_hidden": true
    },
    "scrolled": true
   },
   "outputs": [
    {
     "name": "stderr",
     "output_type": "stream",
     "text": [
      "C:\\Users\\Akanksha\\anaconda3\\Lib\\site-packages\\sklearn\\cluster\\_kmeans.py:1419: UserWarning: KMeans is known to have a memory leak on Windows with MKL, when there are less chunks than available threads. You can avoid it by setting the environment variable OMP_NUM_THREADS=4.\n",
      "  warnings.warn(\n",
      "C:\\Users\\Akanksha\\anaconda3\\Lib\\site-packages\\sklearn\\cluster\\_kmeans.py:1419: UserWarning: KMeans is known to have a memory leak on Windows with MKL, when there are less chunks than available threads. You can avoid it by setting the environment variable OMP_NUM_THREADS=4.\n",
      "  warnings.warn(\n",
      "C:\\Users\\Akanksha\\anaconda3\\Lib\\site-packages\\sklearn\\cluster\\_kmeans.py:1419: UserWarning: KMeans is known to have a memory leak on Windows with MKL, when there are less chunks than available threads. You can avoid it by setting the environment variable OMP_NUM_THREADS=4.\n",
      "  warnings.warn(\n",
      "C:\\Users\\Akanksha\\anaconda3\\Lib\\site-packages\\sklearn\\cluster\\_kmeans.py:1419: UserWarning: KMeans is known to have a memory leak on Windows with MKL, when there are less chunks than available threads. You can avoid it by setting the environment variable OMP_NUM_THREADS=4.\n",
      "  warnings.warn(\n",
      "C:\\Users\\Akanksha\\anaconda3\\Lib\\site-packages\\sklearn\\cluster\\_kmeans.py:1419: UserWarning: KMeans is known to have a memory leak on Windows with MKL, when there are less chunks than available threads. You can avoid it by setting the environment variable OMP_NUM_THREADS=4.\n",
      "  warnings.warn(\n",
      "C:\\Users\\Akanksha\\anaconda3\\Lib\\site-packages\\sklearn\\cluster\\_kmeans.py:1419: UserWarning: KMeans is known to have a memory leak on Windows with MKL, when there are less chunks than available threads. You can avoid it by setting the environment variable OMP_NUM_THREADS=4.\n",
      "  warnings.warn(\n",
      "C:\\Users\\Akanksha\\anaconda3\\Lib\\site-packages\\sklearn\\cluster\\_kmeans.py:1419: UserWarning: KMeans is known to have a memory leak on Windows with MKL, when there are less chunks than available threads. You can avoid it by setting the environment variable OMP_NUM_THREADS=4.\n",
      "  warnings.warn(\n",
      "C:\\Users\\Akanksha\\anaconda3\\Lib\\site-packages\\sklearn\\cluster\\_kmeans.py:1419: UserWarning: KMeans is known to have a memory leak on Windows with MKL, when there are less chunks than available threads. You can avoid it by setting the environment variable OMP_NUM_THREADS=4.\n",
      "  warnings.warn(\n",
      "C:\\Users\\Akanksha\\anaconda3\\Lib\\site-packages\\sklearn\\cluster\\_kmeans.py:1419: UserWarning: KMeans is known to have a memory leak on Windows with MKL, when there are less chunks than available threads. You can avoid it by setting the environment variable OMP_NUM_THREADS=4.\n",
      "  warnings.warn(\n"
     ]
    },
    {
     "data": {
      "text/plain": [
       "Text(0.5, 1.0, 'KMeans cluster')"
      ]
     },
     "execution_count": 11,
     "metadata": {},
     "output_type": "execute_result"
    },
    {
     "data": {
      "image/png": "[encoded data removed]",
      "text/plain": [
       "<Figure size 640x480 with 1 Axes>"
      ]
     },
     "metadata": {},
     "output_type": "display_data"
    }
   ],
   "source": [
    "from sklearn.cluster import KMeans\n",
    "import matplotlib.pyplot as plt\n",
    "\n",
    "wcss =[]\n",
    "for k in range(1,10):\n",
    "    kmeans = KMeans(n_clusters=k, random_state=42)\n",
    "    kmeans.fit(df[['Biosensor_Type_number', 'classification_label_number']])\n",
    "    wcss.append(kmeans.inertia_)\n",
    "\n",
    "#plot elbow method\n",
    "plt.plot(range(1,10), wcss, marker='o', color='b', linestyle='--')\n",
    "plt.xlabel('number of cluster')\n",
    "plt.ylabel('wcss')\n",
    "plt.title('KMeans cluster')"
   ]
  },
  {
   "cell_type": "code",
   "execution_count": 13,
   "id": "817ae175-e9e9-4469-9f83-7fbdfe4b0ad7",
   "metadata": {},
   "outputs": [
    {
     "name": "stderr",
     "output_type": "stream",
     "text": [
      "C:\\Users\\Akanksha\\anaconda3\\Lib\\site-packages\\sklearn\\cluster\\_kmeans.py:1419: UserWarning: KMeans is known to have a memory leak on Windows with MKL, when there are less chunks than available threads. You can avoid it by setting the environment variable OMP_NUM_THREADS=4.\n",
      "  warnings.warn(\n"
     ]
    }
   ],
   "source": [
    "#running clustering\n",
    "n_clusters=2\n",
    "kmeans = KMeans(n_clusters=n_clusters, random_state=42)\n",
    "clusters = kmeans.fit_predict(df[['Biosensor_Type_number', 'classification_label_number']])\n",
    "centroids = kmeans.cluster_centers_\n",
    "\n",
    "data['clusters'] = clusters"
   ]
  },
  {
   "cell_type": "code",
   "execution_count": 15,
   "id": "804f3d74-5a4a-43e1-84f0-85852a67f742",
   "metadata": {},
   "outputs": [],
   "source": [
    "# Calculate silhouette scores\n",
    "sample_silhouette_values = silhouette_samples(df[['Biosensor_Type_number', 'classification_label_number']], clusters)\n",
    "silhouette_avg = silhouette_score(df[['Biosensor_Type_number', 'classification_label_number']], clusters)"
   ]
  },
  {
   "cell_type": "code",
   "execution_count": 17,
   "id": "c13d9d0a-514d-420d-b9f6-0bf39c1e9123",
   "metadata": {},
   "outputs": [
    {
     "data": {
      "image/png": "[encoded data removed]",
      "text/plain": [
       "<Figure size 800x600 with 1 Axes>"
      ]
     },
     "metadata": {},
     "output_type": "display_data"
    }
   ],
   "source": [
    "# Silhouette plot\n",
    "plt.figure(figsize=(8, 6))\n",
    "y_lower = 10\n",
    "for i in range(n_clusters):\n",
    "    ith_cluster_silhouette_values = sample_silhouette_values[clusters == i]\n",
    "    ith_cluster_silhouette_values.sort()\n",
    "    size_cluster_i = ith_cluster_silhouette_values.shape[0]\n",
    "    y_upper = y_lower + size_cluster_i\n",
    "    plt.fill_betweenx(np.arange(y_lower, y_upper), 0, ith_cluster_silhouette_values, alpha=0.7)\n",
    "    y_lower = y_upper + 10\n",
    "\n",
    "plt.axvline(x=silhouette_avg, color='red', linestyle='--')\n",
    "plt.title('Silhouette Plot')\n",
    "plt.xlabel('Silhouette Coefficient')\n",
    "plt.ylabel('Cluster')\n",
    "plt.show()"
   ]
  },
  {
   "cell_type": "code",
   "execution_count": null,
   "id": "d212482a-9285-4194-b58e-5499d1e9563c",
   "metadata": {},
   "outputs": [],
   "source": [
    "################################################################################################################"
   ]
  },
  {
   "cell_type": "code",
   "execution_count": 19,
   "id": "cb4218e2-f2fc-4e9f-b7bf-6d602e552315",
   "metadata": {},
   "outputs": [
    {
     "name": "stdout",
     "output_type": "stream",
     "text": [
      "   Feature1  Feature2  Feature3\n",
      "0  0.686348  0.351971  0.479209\n",
      "1  0.511493  0.590626  0.437371\n",
      "2  0.343812  0.369256  0.116776\n",
      "3  0.666280  0.464673  0.450686\n",
      "4  0.766623  0.388922  0.387402\n"
     ]
    }
   ],
   "source": [
    "# Convert the string representation of lists to actual lists\n",
    "df['Microbial_Signature'] = df['Microbial_Signature'].apply(ast.literal_eval)\n",
    "\n",
    "# Expand the list of arrays into separate columns\n",
    "df_expanded = pd.DataFrame(df['Microbial_Signature'].tolist(), columns=['Feature1', 'Feature2', 'Feature3'])\n",
    "\n",
    "print(df_expanded.head())  # Check the first few rows"
   ]
  },
  {
   "cell_type": "code",
   "execution_count": 21,
   "id": "b847a21d-9c40-41b6-86de-d05607b772ee",
   "metadata": {
    "jupyter": {
     "source_hidden": true
    },
    "scrolled": true
   },
   "outputs": [
    {
     "name": "stderr",
     "output_type": "stream",
     "text": [
      "C:\\Users\\Akanksha\\anaconda3\\Lib\\site-packages\\sklearn\\cluster\\_kmeans.py:1419: UserWarning: KMeans is known to have a memory leak on Windows with MKL, when there are less chunks than available threads. You can avoid it by setting the environment variable OMP_NUM_THREADS=4.\n",
      "  warnings.warn(\n",
      "C:\\Users\\Akanksha\\anaconda3\\Lib\\site-packages\\sklearn\\cluster\\_kmeans.py:1419: UserWarning: KMeans is known to have a memory leak on Windows with MKL, when there are less chunks than available threads. You can avoid it by setting the environment variable OMP_NUM_THREADS=4.\n",
      "  warnings.warn(\n",
      "C:\\Users\\Akanksha\\anaconda3\\Lib\\site-packages\\sklearn\\cluster\\_kmeans.py:1419: UserWarning: KMeans is known to have a memory leak on Windows with MKL, when there are less chunks than available threads. You can avoid it by setting the environment variable OMP_NUM_THREADS=4.\n",
      "  warnings.warn(\n",
      "C:\\Users\\Akanksha\\anaconda3\\Lib\\site-packages\\sklearn\\cluster\\_kmeans.py:1419: UserWarning: KMeans is known to have a memory leak on Windows with MKL, when there are less chunks than available threads. You can avoid it by setting the environment variable OMP_NUM_THREADS=4.\n",
      "  warnings.warn(\n",
      "C:\\Users\\Akanksha\\anaconda3\\Lib\\site-packages\\sklearn\\cluster\\_kmeans.py:1419: UserWarning: KMeans is known to have a memory leak on Windows with MKL, when there are less chunks than available threads. You can avoid it by setting the environment variable OMP_NUM_THREADS=4.\n",
      "  warnings.warn(\n",
      "C:\\Users\\Akanksha\\anaconda3\\Lib\\site-packages\\sklearn\\cluster\\_kmeans.py:1419: UserWarning: KMeans is known to have a memory leak on Windows with MKL, when there are less chunks than available threads. You can avoid it by setting the environment variable OMP_NUM_THREADS=4.\n",
      "  warnings.warn(\n",
      "C:\\Users\\Akanksha\\anaconda3\\Lib\\site-packages\\sklearn\\cluster\\_kmeans.py:1419: UserWarning: KMeans is known to have a memory leak on Windows with MKL, when there are less chunks than available threads. You can avoid it by setting the environment variable OMP_NUM_THREADS=4.\n",
      "  warnings.warn(\n",
      "C:\\Users\\Akanksha\\anaconda3\\Lib\\site-packages\\sklearn\\cluster\\_kmeans.py:1419: UserWarning: KMeans is known to have a memory leak on Windows with MKL, when there are less chunks than available threads. You can avoid it by setting the environment variable OMP_NUM_THREADS=4.\n",
      "  warnings.warn(\n",
      "C:\\Users\\Akanksha\\anaconda3\\Lib\\site-packages\\sklearn\\cluster\\_kmeans.py:1419: UserWarning: KMeans is known to have a memory leak on Windows with MKL, when there are less chunks than available threads. You can avoid it by setting the environment variable OMP_NUM_THREADS=4.\n",
      "  warnings.warn(\n"
     ]
    },
    {
     "data": {
      "text/plain": [
       "Text(0.5, 1.0, 'KMeans cluster')"
      ]
     },
     "execution_count": 21,
     "metadata": {},
     "output_type": "execute_result"
    },
    {
     "data": {
      "image/png": "[encoded data removed]",
      "text/plain": [
       "<Figure size 640x480 with 1 Axes>"
      ]
     },
     "metadata": {},
     "output_type": "display_data"
    }
   ],
   "source": [
    "from sklearn.cluster import KMeans\n",
    "import matplotlib.pyplot as plt\n",
    "\n",
    "wcss =[]\n",
    "for k in range(1,10):\n",
    "    kmeans = KMeans(n_clusters=k, random_state=42)\n",
    "    kmeans.fit(df_expanded)\n",
    "    wcss.append(kmeans.inertia_)\n",
    "\n",
    "#plot elbow method\n",
    "plt.plot(range(1,10), wcss, marker='o', color='b', linestyle='--')\n",
    "plt.xlabel('number of cluster')\n",
    "plt.ylabel('wcss')\n",
    "plt.title('KMeans cluster')"
   ]
  },
  {
   "cell_type": "code",
   "execution_count": 23,
   "id": "12b4f695-f1ac-40bf-9f65-a8c77fb826be",
   "metadata": {},
   "outputs": [
    {
     "name": "stderr",
     "output_type": "stream",
     "text": [
      "C:\\Users\\Akanksha\\anaconda3\\Lib\\site-packages\\sklearn\\cluster\\_kmeans.py:1419: UserWarning: KMeans is known to have a memory leak on Windows with MKL, when there are less chunks than available threads. You can avoid it by setting the environment variable OMP_NUM_THREADS=4.\n",
      "  warnings.warn(\n"
     ]
    }
   ],
   "source": [
    "#running clustering\n",
    "n_clusters=9\n",
    "kmeans = KMeans(n_clusters=n_clusters, random_state=42)\n",
    "clusters = kmeans.fit_predict(df_expanded)\n",
    "centroids = kmeans.cluster_centers_\n",
    "\n",
    "data['clusters'] = clusters"
   ]
  },
  {
   "cell_type": "code",
   "execution_count": 25,
   "id": "c50c5442-e53c-457e-b5cb-5c3a9eb5d12a",
   "metadata": {},
   "outputs": [],
   "source": [
    "# Calculate silhouette scores\n",
    "sample_silhouette_values = silhouette_samples(df_expanded, clusters)\n",
    "silhouette_avg = silhouette_score(df_expanded, clusters)"
   ]
  },
  {
   "cell_type": "code",
   "execution_count": 27,
   "id": "aeac8be7-4134-4c5f-b9f6-b90b6095d8e7",
   "metadata": {},
   "outputs": [
    {
     "data": {
      "image/png": "[encoded data removed]",
      "text/plain": [
       "<Figure size 800x600 with 1 Axes>"
      ]
     },
     "metadata": {},
     "output_type": "display_data"
    }
   ],
   "source": [
    "# Silhouette plot\n",
    "plt.figure(figsize=(8, 6))\n",
    "y_lower = 10\n",
    "for i in range(n_clusters):\n",
    "    ith_cluster_silhouette_values = sample_silhouette_values[clusters == i]\n",
    "    ith_cluster_silhouette_values.sort()\n",
    "    size_cluster_i = ith_cluster_silhouette_values.shape[0]\n",
    "    y_upper = y_lower + size_cluster_i\n",
    "    plt.fill_betweenx(np.arange(y_lower, y_upper), 0, ith_cluster_silhouette_values, alpha=0.7)\n",
    "    y_lower = y_upper + 10\n",
    "\n",
    "plt.axvline(x=silhouette_avg, color='red', linestyle='--')\n",
    "plt.title('Silhouette Plot')\n",
    "plt.xlabel('Silhouette Coefficient')\n",
    "plt.ylabel('Cluster')\n",
    "plt.show()"
   ]
  },
  {
   "cell_type": "code",
   "execution_count": null,
   "id": "84cd47c3-adc6-49c0-981e-12f38698899b",
   "metadata": {},
   "outputs": [],
   "source": []
  }
 ],
 "metadata": {
  "kernelspec": {
   "display_name": "Python 3 (ipykernel)",
   "language": "python",
   "name": "python3"
  },
  "language_info": {
   "codemirror_mode": {
    "name": "ipython",
    "version": 3
   },
   "file_extension": ".py",
   "mimetype": "text/x-python",
   "name": "python",
   "nbconvert_exporter": "python",
   "pygments_lexer": "ipython3",
   "version": "3.12.3"
  }
 },
 "nbformat": 4,
 "nbformat_minor": 5
}
